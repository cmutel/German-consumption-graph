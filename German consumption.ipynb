{
 "cells": [
  {
   "cell_type": "code",
   "execution_count": 12,
   "metadata": {},
   "outputs": [],
   "source": [
    "%matplotlib inline"
   ]
  },
  {
   "cell_type": "markdown",
   "metadata": {},
   "source": [
    "# GHG impacts from consumption of final goods\n",
    "\n",
    "Data downloaded from https://environmentalfootprints.org/explorer using the following inputs:\n",
    "\n",
    "<img src=\"ef-inputs.png\">\n",
    "\n",
    "License: [CC0](https://creativecommons.org/share-your-work/public-domain/cc0/)."
   ]
  },
  {
   "cell_type": "code",
   "execution_count": 29,
   "metadata": {},
   "outputs": [],
   "source": [
    "import pandas as pd\n",
    "import matplotlib.pyplot as plt\n",
    "import numpy as np"
   ]
  },
  {
   "cell_type": "code",
   "execution_count": 24,
   "metadata": {},
   "outputs": [
    {
     "data": {
      "text/html": [
       "<div>\n",
       "<style scoped>\n",
       "    .dataframe tbody tr th:only-of-type {\n",
       "        vertical-align: middle;\n",
       "    }\n",
       "\n",
       "    .dataframe tbody tr th {\n",
       "        vertical-align: top;\n",
       "    }\n",
       "\n",
       "    .dataframe thead th {\n",
       "        text-align: right;\n",
       "    }\n",
       "</style>\n",
       "<table border=\"1\" class=\"dataframe\">\n",
       "  <thead>\n",
       "    <tr style=\"text-align: right;\">\n",
       "      <th></th>\n",
       "      <th>Model</th>\n",
       "      <th>Year</th>\n",
       "      <th>Stressor</th>\n",
       "      <th>Region</th>\n",
       "      <th>Sector</th>\n",
       "      <th>Parameter</th>\n",
       "      <th>Value</th>\n",
       "    </tr>\n",
       "  </thead>\n",
       "  <tbody>\n",
       "    <tr>\n",
       "      <th>0</th>\n",
       "      <td>Eora</td>\n",
       "      <td>1990</td>\n",
       "      <td>GHG emissions all sources except LULUCF (GWP10...</td>\n",
       "      <td>Germany</td>\n",
       "      <td>Total</td>\n",
       "      <td>Consumption</td>\n",
       "      <td>1779837000000</td>\n",
       "    </tr>\n",
       "    <tr>\n",
       "      <th>1</th>\n",
       "      <td>Eora</td>\n",
       "      <td>1991</td>\n",
       "      <td>GHG emissions all sources except LULUCF (GWP10...</td>\n",
       "      <td>Germany</td>\n",
       "      <td>Total</td>\n",
       "      <td>Consumption</td>\n",
       "      <td>1854753000000</td>\n",
       "    </tr>\n",
       "    <tr>\n",
       "      <th>2</th>\n",
       "      <td>Eora</td>\n",
       "      <td>1992</td>\n",
       "      <td>GHG emissions all sources except LULUCF (GWP10...</td>\n",
       "      <td>Germany</td>\n",
       "      <td>Total</td>\n",
       "      <td>Consumption</td>\n",
       "      <td>1919710000000</td>\n",
       "    </tr>\n",
       "    <tr>\n",
       "      <th>3</th>\n",
       "      <td>Eora</td>\n",
       "      <td>1993</td>\n",
       "      <td>GHG emissions all sources except LULUCF (GWP10...</td>\n",
       "      <td>Germany</td>\n",
       "      <td>Total</td>\n",
       "      <td>Consumption</td>\n",
       "      <td>1856591000000</td>\n",
       "    </tr>\n",
       "    <tr>\n",
       "      <th>4</th>\n",
       "      <td>Eora</td>\n",
       "      <td>1994</td>\n",
       "      <td>GHG emissions all sources except LULUCF (GWP10...</td>\n",
       "      <td>Germany</td>\n",
       "      <td>Total</td>\n",
       "      <td>Consumption</td>\n",
       "      <td>1861514000000</td>\n",
       "    </tr>\n",
       "    <tr>\n",
       "      <th>...</th>\n",
       "      <td>...</td>\n",
       "      <td>...</td>\n",
       "      <td>...</td>\n",
       "      <td>...</td>\n",
       "      <td>...</td>\n",
       "      <td>...</td>\n",
       "      <td>...</td>\n",
       "    </tr>\n",
       "    <tr>\n",
       "      <th>79</th>\n",
       "      <td>WIODr2013</td>\n",
       "      <td>2005</td>\n",
       "      <td>GHG emissions all sources except LULUCF (GWP10...</td>\n",
       "      <td>Germany</td>\n",
       "      <td>Total</td>\n",
       "      <td>Consumption</td>\n",
       "      <td>1318468000000</td>\n",
       "    </tr>\n",
       "    <tr>\n",
       "      <th>80</th>\n",
       "      <td>WIODr2013</td>\n",
       "      <td>2006</td>\n",
       "      <td>GHG emissions all sources except LULUCF (GWP10...</td>\n",
       "      <td>Germany</td>\n",
       "      <td>Total</td>\n",
       "      <td>Consumption</td>\n",
       "      <td>1316478000000</td>\n",
       "    </tr>\n",
       "    <tr>\n",
       "      <th>81</th>\n",
       "      <td>WIODr2013</td>\n",
       "      <td>2007</td>\n",
       "      <td>GHG emissions all sources except LULUCF (GWP10...</td>\n",
       "      <td>Germany</td>\n",
       "      <td>Total</td>\n",
       "      <td>Consumption</td>\n",
       "      <td>1311824000000</td>\n",
       "    </tr>\n",
       "    <tr>\n",
       "      <th>82</th>\n",
       "      <td>WIODr2013</td>\n",
       "      <td>2008</td>\n",
       "      <td>GHG emissions all sources except LULUCF (GWP10...</td>\n",
       "      <td>Germany</td>\n",
       "      <td>Total</td>\n",
       "      <td>Consumption</td>\n",
       "      <td>1328556000000</td>\n",
       "    </tr>\n",
       "    <tr>\n",
       "      <th>83</th>\n",
       "      <td>WIODr2013</td>\n",
       "      <td>2009</td>\n",
       "      <td>GHG emissions all sources except LULUCF (GWP10...</td>\n",
       "      <td>Germany</td>\n",
       "      <td>Total</td>\n",
       "      <td>Consumption</td>\n",
       "      <td>1196321000000</td>\n",
       "    </tr>\n",
       "  </tbody>\n",
       "</table>\n",
       "<p>84 rows × 7 columns</p>\n",
       "</div>"
      ],
      "text/plain": [
       "        Model  Year                                           Stressor  \\\n",
       "0        Eora  1990  GHG emissions all sources except LULUCF (GWP10...   \n",
       "1        Eora  1991  GHG emissions all sources except LULUCF (GWP10...   \n",
       "2        Eora  1992  GHG emissions all sources except LULUCF (GWP10...   \n",
       "3        Eora  1993  GHG emissions all sources except LULUCF (GWP10...   \n",
       "4        Eora  1994  GHG emissions all sources except LULUCF (GWP10...   \n",
       "..        ...   ...                                                ...   \n",
       "79  WIODr2013  2005  GHG emissions all sources except LULUCF (GWP10...   \n",
       "80  WIODr2013  2006  GHG emissions all sources except LULUCF (GWP10...   \n",
       "81  WIODr2013  2007  GHG emissions all sources except LULUCF (GWP10...   \n",
       "82  WIODr2013  2008  GHG emissions all sources except LULUCF (GWP10...   \n",
       "83  WIODr2013  2009  GHG emissions all sources except LULUCF (GWP10...   \n",
       "\n",
       "     Region Sector    Parameter          Value  \n",
       "0   Germany  Total  Consumption  1779837000000  \n",
       "1   Germany  Total  Consumption  1854753000000  \n",
       "2   Germany  Total  Consumption  1919710000000  \n",
       "3   Germany  Total  Consumption  1856591000000  \n",
       "4   Germany  Total  Consumption  1861514000000  \n",
       "..      ...    ...          ...            ...  \n",
       "79  Germany  Total  Consumption  1318468000000  \n",
       "80  Germany  Total  Consumption  1316478000000  \n",
       "81  Germany  Total  Consumption  1311824000000  \n",
       "82  Germany  Total  Consumption  1328556000000  \n",
       "83  Germany  Total  Consumption  1196321000000  \n",
       "\n",
       "[84 rows x 7 columns]"
      ]
     },
     "execution_count": 24,
     "metadata": {},
     "output_type": "execute_result"
    }
   ],
   "source": [
    "df = pd.read_csv(\"Environmental footprints Data Explorer.csv\")\n",
    "df"
   ]
  },
  {
   "cell_type": "code",
   "execution_count": 28,
   "metadata": {},
   "outputs": [
    {
     "data": {
      "text/plain": [
       "array([1990, 1991, 1992, 1993, 1994, 1995, 1996, 1997, 1998, 1999, 2000,\n",
       "       2001, 2002, 2003, 2004, 2005, 2006, 2007, 2008, 2009, 2010, 2011,\n",
       "       2012, 2013])"
      ]
     },
     "execution_count": 28,
     "metadata": {},
     "output_type": "execute_result"
    }
   ],
   "source": [
    "pd.unique(df['Year'])"
   ]
  },
  {
   "cell_type": "code",
   "execution_count": 38,
   "metadata": {},
   "outputs": [
    {
     "data": {
      "image/png": "[encoded data removed]",
      "text/plain": [
       "<Figure size 864x432 with 1 Axes>"
      ]
     },
     "metadata": {
      "needs_background": "light"
     },
     "output_type": "display_data"
    }
   ],
   "source": [
    "df[(df['Model'] != 'GTAP9') & (df['Model'] != 'EXIOBASE2.3') & (df['Model'] != 'Eora')]\\\n",
    "    .pivot(index='Year', columns='Model', values='Value')\\\n",
    "    .plot(figsize=(12,6))\n",
    "\n",
    "# Data from https://di.unfccc.int/time_series\n",
    "xs = [1990, 1995, 2000, 2005, 2010, 2015]\n",
    "ys = np.array([1250992.61, 1123034.59, 1045187.43, 993343.68, 942541.89, 911049.01]) * 1e6\n",
    "\n",
    "plt.plot(xs, ys, label=\"UNFCCC\")\n",
    "plt.legend()\n",
    "\n",
    "plt.xlabel(\"Year\")\n",
    "plt.ylabel(r\"IPCC 2014 AR5 100-year global warming potential kg $CO_{2}-eq.$\")\n",
    "plt.xlim(1995, 2015)\n",
    "plt.xticks(np.arange(1990, 2016, 5), [1990, 1995, 2000, 2005, 2010, 2015])\n",
    "plt.savefig(\"DE-GHG-time series.png\", dpi=300)"
   ]
  },
  {
   "cell_type": "code",
   "execution_count": null,
   "metadata": {},
   "outputs": [],
   "source": []
  }
 ],
 "metadata": {
  "kernelspec": {
   "display_name": "Python 3",
   "language": "python",
   "name": "python3"
  },
  "language_info": {
   "codemirror_mode": {
    "name": "ipython",
    "version": 3
   },
   "file_extension": ".py",
   "mimetype": "text/x-python",
   "name": "python",
   "nbconvert_exporter": "python",
   "pygments_lexer": "ipython3",
   "version": "3.8.0"
  }
 },
 "nbformat": 4,
 "nbformat_minor": 2
}
